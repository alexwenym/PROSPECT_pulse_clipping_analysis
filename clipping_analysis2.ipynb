{
 "cells": [
  {
   "cell_type": "code",
   "execution_count": 2,
   "id": "2b55309c",
   "metadata": {},
   "outputs": [
    {
     "name": "stdout",
     "output_type": "stream",
     "text": [
      "Welcome to JupyROOT 6.24/00\n"
     ]
    }
   ],
   "source": [
    "import ROOT\n",
    "import numpy as np\n",
    "import matplotlib.pyplot as plt\n",
    "import pandas as pd\n",
    "import uproot"
   ]
  },
  {
   "cell_type": "code",
   "execution_count": 3,
   "id": "13130f18",
   "metadata": {},
   "outputs": [
    {
     "name": "stderr",
     "output_type": "stream",
     "text": [
      "Warning in <TClass::Init>: no dictionary for class TCumulativeMap<string,double> is available\n",
      "Warning in <TClass::Init>: no dictionary for class TCumulative is available\n",
      "Warning in <TClass::Init>: no dictionary for class CumulativeData is available\n"
     ]
    }
   ],
   "source": [
    "templatefile = ROOT.TFile.Open('templates/AD_Templates.root',\"READ\")\n",
    "muonfile = ROOT.TFile.Open('AD1_Wet_MuonTracking.root', \"READ\")"
   ]
  },
  {
   "cell_type": "code",
   "execution_count": 4,
   "id": "f6e12995",
   "metadata": {},
   "outputs": [],
   "source": [
    "graph_early = templatefile.Get(\"gPSD_Template_0_0\")\n",
    "graph_late = templatefile.Get(\"gPSD_Template_0_1\")\n",
    "PSDvE = muonfile.Get(\"MuonTracking/hPSDvE\")"
   ]
  },
  {
   "cell_type": "code",
   "execution_count": 5,
   "id": "e3b0899c",
   "metadata": {},
   "outputs": [],
   "source": [
    "def get_xy_from_TGraph(graph): \n",
    "    \n",
    "    n = graph.GetN()\n",
    "    \n",
    "    x = np.asarray([])\n",
    "    y = np.asarray([])\n",
    "\n",
    "    for i in range(n): \n",
    "        x = np.append(x, graph.GetPointX(i))\n",
    "        y = np.append(y, graph.GetPointY(i))\n",
    "        \n",
    "    return x, y\n"
   ]
  },
  {
   "cell_type": "code",
   "execution_count": 6,
   "id": "428ee687",
   "metadata": {},
   "outputs": [],
   "source": [
    "x,y = get_xy_from_TGraph(graph_early)\n",
    "x1, y1 = get_xy_from_TGraph(graph_late)\n",
    "half_max = np.amax(y)/2"
   ]
  },
  {
   "cell_type": "code",
   "execution_count": 24,
   "id": "bbe06218",
   "metadata": {},
   "outputs": [
    {
     "data": {
      "image/png": "[encoded data removed]",
      "text/plain": [
       "<Figure size 576x432 with 1 Axes>"
      ]
     },
     "metadata": {
      "needs_background": "light"
     },
     "output_type": "display_data"
    }
   ],
   "source": [
    "#plt.plot(x,y, linestyle='-', marker='', label='~0.13')\n",
    "plt.plot(x1,y1, linestyle='-', marker='', label='~0.29', color='orange')\n",
    "#plt.plot([x[0],x[-1]], [half_max,half_max], linestyle='-', marker='', color='r')\n",
    "plt.grid()\n",
    "plt.xlabel('time (ns)', fontsize=14)\n",
    "plt.legend(title='PSD value', fontsize=14)\n",
    "plt.ylim(-100,9000)\n",
    "plt.rcParams[\"figure.figsize\"] = (8,6)"
   ]
  },
  {
   "cell_type": "code",
   "execution_count": 28,
   "id": "9e7dfac3",
   "metadata": {},
   "outputs": [],
   "source": [
    "def waveform_integral(xarray,yarray, intmin, intmax): \n",
    "    \n",
    "    xarraycut = np.asarray([xarray[i] for i in range(len(xarray)) if intmin<xarray[i]<intmax])\n",
    "    yarraycut = np.asarray([yarray[i] for i in range(len(xarray)) if intmin<xarray[i]<intmax])\n",
    "    \n",
    "    ymin_extra = np.interp(intmin, xarray, yarray)\n",
    "    ymax_extra = np.interp(intmax, xarray, yarray)\n",
    "    \n",
    "    xarraycut = np.concatenate([[intmin],xarraycut,[intmax]])\n",
    "    yarraycut = np.concatenate([[ymin_extra],yarraycut,[ymax_extra]])\n",
    "    \n",
    "    return np.trapz(yarraycut, x=xarraycut)\n",
    "\n",
    "def get_time(xarray, yarray):\n",
    "    \n",
    "    half_max = np.amax(yarray)/2\n",
    "    \n",
    "    xarraycut = np.asarray([xarray[i] for i in range(len(xarray)) if -20<xarray[i]<20])\n",
    "    yarraycut = np.asarray([yarray[i] for i in range(len(xarray)) if -20<xarray[i]<20])\n",
    "    \n",
    "    return np.interp(half_max, yarraycut, xarraycut, left=float('NaN'), right=float('NaN')) \n",
    "\n",
    "def get_total_area(xarray,yarray): \n",
    "    \n",
    "    minx = np.amin(xarray)\n",
    "    maxx = np.amax(xarray)\n",
    "    \n",
    "    return waveform_integral(xarray,yarray, intmin=minx, intmax=maxx) \n",
    "\n",
    "def get_PSD(xarray, yarray): \n",
    "    \n",
    "    time = get_time(xarray, yarray)\n",
    "    \n",
    "    total = waveform_integral(xarray,yarray, intmin=-12+time, intmax=200+time)\n",
    "    tail  =  waveform_integral(xarray,yarray, intmin=44+time, intmax=200+time)\n",
    "    \n",
    "    return tail/total\n",
    "    \n",
    "    "
   ]
  },
  {
   "cell_type": "code",
   "execution_count": 27,
   "id": "8abc67e3",
   "metadata": {},
   "outputs": [],
   "source": [
    "def scaling_scan(hmin, hmax, xarray, yarray, clipping_height):\n",
    "    \n",
    "    df = pd.DataFrame(columns=['dh', \\\n",
    "                               'scalefactor', \\\n",
    "                               'clipping_height', \\\n",
    "                               'ymax_unclipped', \\\n",
    "                               'ymax_clipped', \\\n",
    "                               'PSD_unclipped', \\\n",
    "                               'PSD_clipped', \\\n",
    "                               'totalarea_unclipped', \\\n",
    "                               'totalarea_clipped', \\\n",
    "                               'time_offset'])\n",
    "    \n",
    "    ymax = np.amax(yarray)\n",
    "    #dh_array = np.arange(hmin, hmax, 300) - ymax\n",
    "    dh_array = np.linspace(hmin, hmax, 500) - ymax\n",
    "    \n",
    "    for dh in dh_array: \n",
    "        \n",
    "        scalefactor = (ymax + dh)/ymax\n",
    "        \n",
    "        yscaled = yarray*scalefactor\n",
    "        yscaled_clipped = np.copy(yscaled)\n",
    "        \n",
    "        yscaled_clipped[yscaled_clipped > clipping_height] = clipping_height\n",
    "        \n",
    "        dh = dh\n",
    "        scalefactor = scalefactor\n",
    "        clipping_height = clipping_height\n",
    "        ymax_unclipped = np.amax(yscaled)\n",
    "        ymax_clipped = np.amax(yscaled_clipped)\n",
    "        PSD_unclipped = get_PSD(xarray, yscaled)\n",
    "        PSD_clipped = get_PSD(xarray, yscaled_clipped)\n",
    "        totalarea_unclipped = get_total_area(xarray, yscaled)\n",
    "        totalarea_clipped = get_total_area(xarray, yscaled_clipped) \n",
    "        time_offset = get_time(xarray, yscaled_clipped) - get_time(xarray, yscaled)\n",
    "        \n",
    "        df.loc[len(df)] = [dh, \\\n",
    "                           scalefactor, \\\n",
    "                           clipping_height, \\\n",
    "                           ymax_unclipped, \\\n",
    "                           ymax_clipped, \\\n",
    "                           PSD_unclipped, \\\n",
    "                           PSD_clipped, \\\n",
    "                           totalarea_unclipped, \\\n",
    "                           totalarea_clipped, \\\n",
    "                           time_offset]\n",
    "        \n",
    "    return df\n",
    "    "
   ]
  },
  {
   "cell_type": "markdown",
   "id": "3f49bb78",
   "metadata": {},
   "source": [
    "### Using Combined 2 Waveforms"
   ]
  },
  {
   "cell_type": "code",
   "execution_count": 29,
   "id": "4a644bc0",
   "metadata": {},
   "outputs": [],
   "source": [
    "x,y = get_xy_from_TGraph(graph_early)\n",
    "df_early = scaling_scan(hmin=0.01, hmax=np.amax(y)*200, xarray=x, yarray=y, clipping_height=80000)\n",
    "x,y = get_xy_from_TGraph(graph_late)\n",
    "df_late = scaling_scan(hmin=0.01, hmax=np.amax(y)*200, xarray=x, yarray=y, clipping_height=80000)\n",
    "\n",
    "df_late = df_late.iloc[1:]\n",
    "df_early = df_early.iloc[1:]"
   ]
  },
  {
   "cell_type": "code",
   "execution_count": 39,
   "id": "cc1eebb4",
   "metadata": {},
   "outputs": [
    {
     "data": {
      "text/html": [
       "<div>\n",
       "<style scoped>\n",
       "    .dataframe tbody tr th:only-of-type {\n",
       "        vertical-align: middle;\n",
       "    }\n",
       "\n",
       "    .dataframe tbody tr th {\n",
       "        vertical-align: top;\n",
       "    }\n",
       "\n",
       "    .dataframe thead th {\n",
       "        text-align: right;\n",
       "    }\n",
       "</style>\n",
       "<table border=\"1\" class=\"dataframe\">\n",
       "  <thead>\n",
       "    <tr style=\"text-align: right;\">\n",
       "      <th></th>\n",
       "      <th>dh</th>\n",
       "      <th>scalefactor</th>\n",
       "      <th>clipping_height</th>\n",
       "      <th>ymax_unclipped</th>\n",
       "      <th>ymax_clipped</th>\n",
       "      <th>PSD_unclipped</th>\n",
       "      <th>PSD_clipped</th>\n",
       "      <th>totalarea_unclipped</th>\n",
       "      <th>totalarea_clipped</th>\n",
       "      <th>time_offset</th>\n",
       "    </tr>\n",
       "  </thead>\n",
       "  <tbody>\n",
       "    <tr>\n",
       "      <th>1</th>\n",
       "      <td>-5.295217e+03</td>\n",
       "      <td>0.400803</td>\n",
       "      <td>80000.0</td>\n",
       "      <td>3.541968e+03</td>\n",
       "      <td>3541.967697</td>\n",
       "      <td>0.129536</td>\n",
       "      <td>0.129536</td>\n",
       "      <td>1.082977e+05</td>\n",
       "      <td>1.082977e+05</td>\n",
       "      <td>0.000000</td>\n",
       "    </tr>\n",
       "    <tr>\n",
       "      <th>2</th>\n",
       "      <td>-1.753259e+03</td>\n",
       "      <td>0.801604</td>\n",
       "      <td>80000.0</td>\n",
       "      <td>7.083925e+03</td>\n",
       "      <td>7083.925393</td>\n",
       "      <td>0.129536</td>\n",
       "      <td>0.129536</td>\n",
       "      <td>2.165951e+05</td>\n",
       "      <td>2.165951e+05</td>\n",
       "      <td>0.000000</td>\n",
       "    </tr>\n",
       "    <tr>\n",
       "      <th>3</th>\n",
       "      <td>1.788699e+03</td>\n",
       "      <td>1.202406</td>\n",
       "      <td>80000.0</td>\n",
       "      <td>1.062588e+04</td>\n",
       "      <td>10625.883090</td>\n",
       "      <td>0.129536</td>\n",
       "      <td>0.129536</td>\n",
       "      <td>3.248925e+05</td>\n",
       "      <td>3.248925e+05</td>\n",
       "      <td>0.000000</td>\n",
       "    </tr>\n",
       "    <tr>\n",
       "      <th>4</th>\n",
       "      <td>5.330656e+03</td>\n",
       "      <td>1.603208</td>\n",
       "      <td>80000.0</td>\n",
       "      <td>1.416784e+04</td>\n",
       "      <td>14167.840787</td>\n",
       "      <td>0.129536</td>\n",
       "      <td>0.129536</td>\n",
       "      <td>4.331899e+05</td>\n",
       "      <td>4.331899e+05</td>\n",
       "      <td>0.000000</td>\n",
       "    </tr>\n",
       "    <tr>\n",
       "      <th>5</th>\n",
       "      <td>8.872614e+03</td>\n",
       "      <td>2.004009</td>\n",
       "      <td>80000.0</td>\n",
       "      <td>1.770980e+04</td>\n",
       "      <td>17709.798484</td>\n",
       "      <td>0.129536</td>\n",
       "      <td>0.129536</td>\n",
       "      <td>5.414873e+05</td>\n",
       "      <td>5.414873e+05</td>\n",
       "      <td>0.000000</td>\n",
       "    </tr>\n",
       "    <tr>\n",
       "      <th>...</th>\n",
       "      <td>...</td>\n",
       "      <td>...</td>\n",
       "      <td>...</td>\n",
       "      <td>...</td>\n",
       "      <td>...</td>\n",
       "      <td>...</td>\n",
       "      <td>...</td>\n",
       "      <td>...</td>\n",
       "      <td>...</td>\n",
       "      <td>...</td>\n",
       "    </tr>\n",
       "    <tr>\n",
       "      <th>495</th>\n",
       "      <td>1.744432e+06</td>\n",
       "      <td>198.396794</td>\n",
       "      <td>80000.0</td>\n",
       "      <td>1.753269e+06</td>\n",
       "      <td>80000.000000</td>\n",
       "      <td>0.129536</td>\n",
       "      <td>0.626007</td>\n",
       "      <td>5.360721e+07</td>\n",
       "      <td>1.109200e+07</td>\n",
       "      <td>-8.501859</td>\n",
       "    </tr>\n",
       "    <tr>\n",
       "      <th>496</th>\n",
       "      <td>1.747974e+06</td>\n",
       "      <td>198.797595</td>\n",
       "      <td>80000.0</td>\n",
       "      <td>1.756811e+06</td>\n",
       "      <td>80000.000000</td>\n",
       "      <td>0.129536</td>\n",
       "      <td>0.626285</td>\n",
       "      <td>5.371551e+07</td>\n",
       "      <td>1.110226e+07</td>\n",
       "      <td>-8.506512</td>\n",
       "    </tr>\n",
       "    <tr>\n",
       "      <th>497</th>\n",
       "      <td>1.751516e+06</td>\n",
       "      <td>199.198397</td>\n",
       "      <td>80000.0</td>\n",
       "      <td>1.760353e+06</td>\n",
       "      <td>80000.000000</td>\n",
       "      <td>0.129536</td>\n",
       "      <td>0.626563</td>\n",
       "      <td>5.382381e+07</td>\n",
       "      <td>1.111252e+07</td>\n",
       "      <td>-8.511146</td>\n",
       "    </tr>\n",
       "    <tr>\n",
       "      <th>498</th>\n",
       "      <td>1.755058e+06</td>\n",
       "      <td>199.599198</td>\n",
       "      <td>80000.0</td>\n",
       "      <td>1.763895e+06</td>\n",
       "      <td>80000.000000</td>\n",
       "      <td>0.129536</td>\n",
       "      <td>0.626840</td>\n",
       "      <td>5.393210e+07</td>\n",
       "      <td>1.112278e+07</td>\n",
       "      <td>-8.515762</td>\n",
       "    </tr>\n",
       "    <tr>\n",
       "      <th>499</th>\n",
       "      <td>1.758600e+06</td>\n",
       "      <td>200.000000</td>\n",
       "      <td>80000.0</td>\n",
       "      <td>1.767437e+06</td>\n",
       "      <td>80000.000000</td>\n",
       "      <td>0.129536</td>\n",
       "      <td>0.627117</td>\n",
       "      <td>5.404040e+07</td>\n",
       "      <td>1.113304e+07</td>\n",
       "      <td>-8.520360</td>\n",
       "    </tr>\n",
       "  </tbody>\n",
       "</table>\n",
       "<p>499 rows × 10 columns</p>\n",
       "</div>"
      ],
      "text/plain": [
       "               dh  scalefactor  clipping_height  ymax_unclipped  ymax_clipped  \\\n",
       "1   -5.295217e+03     0.400803          80000.0    3.541968e+03   3541.967697   \n",
       "2   -1.753259e+03     0.801604          80000.0    7.083925e+03   7083.925393   \n",
       "3    1.788699e+03     1.202406          80000.0    1.062588e+04  10625.883090   \n",
       "4    5.330656e+03     1.603208          80000.0    1.416784e+04  14167.840787   \n",
       "5    8.872614e+03     2.004009          80000.0    1.770980e+04  17709.798484   \n",
       "..            ...          ...              ...             ...           ...   \n",
       "495  1.744432e+06   198.396794          80000.0    1.753269e+06  80000.000000   \n",
       "496  1.747974e+06   198.797595          80000.0    1.756811e+06  80000.000000   \n",
       "497  1.751516e+06   199.198397          80000.0    1.760353e+06  80000.000000   \n",
       "498  1.755058e+06   199.599198          80000.0    1.763895e+06  80000.000000   \n",
       "499  1.758600e+06   200.000000          80000.0    1.767437e+06  80000.000000   \n",
       "\n",
       "     PSD_unclipped  PSD_clipped  totalarea_unclipped  totalarea_clipped  \\\n",
       "1         0.129536     0.129536         1.082977e+05       1.082977e+05   \n",
       "2         0.129536     0.129536         2.165951e+05       2.165951e+05   \n",
       "3         0.129536     0.129536         3.248925e+05       3.248925e+05   \n",
       "4         0.129536     0.129536         4.331899e+05       4.331899e+05   \n",
       "5         0.129536     0.129536         5.414873e+05       5.414873e+05   \n",
       "..             ...          ...                  ...                ...   \n",
       "495       0.129536     0.626007         5.360721e+07       1.109200e+07   \n",
       "496       0.129536     0.626285         5.371551e+07       1.110226e+07   \n",
       "497       0.129536     0.626563         5.382381e+07       1.111252e+07   \n",
       "498       0.129536     0.626840         5.393210e+07       1.112278e+07   \n",
       "499       0.129536     0.627117         5.404040e+07       1.113304e+07   \n",
       "\n",
       "     time_offset  \n",
       "1       0.000000  \n",
       "2       0.000000  \n",
       "3       0.000000  \n",
       "4       0.000000  \n",
       "5       0.000000  \n",
       "..           ...  \n",
       "495    -8.501859  \n",
       "496    -8.506512  \n",
       "497    -8.511146  \n",
       "498    -8.515762  \n",
       "499    -8.520360  \n",
       "\n",
       "[499 rows x 10 columns]"
      ]
     },
     "execution_count": 39,
     "metadata": {},
     "output_type": "execute_result"
    }
   ],
   "source": [
    "df_early"
   ]
  },
  {
   "cell_type": "code",
   "execution_count": 40,
   "id": "e63fac77",
   "metadata": {},
   "outputs": [
    {
     "data": {
      "text/html": [
       "<div>\n",
       "<style scoped>\n",
       "    .dataframe tbody tr th:only-of-type {\n",
       "        vertical-align: middle;\n",
       "    }\n",
       "\n",
       "    .dataframe tbody tr th {\n",
       "        vertical-align: top;\n",
       "    }\n",
       "\n",
       "    .dataframe thead th {\n",
       "        text-align: right;\n",
       "    }\n",
       "</style>\n",
       "<table border=\"1\" class=\"dataframe\">\n",
       "  <thead>\n",
       "    <tr style=\"text-align: right;\">\n",
       "      <th></th>\n",
       "      <th>dh</th>\n",
       "      <th>scalefactor</th>\n",
       "      <th>clipping_height</th>\n",
       "      <th>ymax_unclipped</th>\n",
       "      <th>ymax_clipped</th>\n",
       "      <th>PSD_unclipped</th>\n",
       "      <th>PSD_clipped</th>\n",
       "      <th>totalarea_unclipped</th>\n",
       "      <th>totalarea_clipped</th>\n",
       "      <th>time_offset</th>\n",
       "    </tr>\n",
       "  </thead>\n",
       "  <tbody>\n",
       "    <tr>\n",
       "      <th>1</th>\n",
       "      <td>-1088.895918</td>\n",
       "      <td>0.400807</td>\n",
       "      <td>80000.0</td>\n",
       "      <td>728.375129</td>\n",
       "      <td>728.375129</td>\n",
       "      <td>0.29219</td>\n",
       "      <td>0.292190</td>\n",
       "      <td>3.207680e+04</td>\n",
       "      <td>3.207680e+04</td>\n",
       "      <td>0.000000</td>\n",
       "    </tr>\n",
       "    <tr>\n",
       "      <th>2</th>\n",
       "      <td>-360.530789</td>\n",
       "      <td>0.801609</td>\n",
       "      <td>80000.0</td>\n",
       "      <td>1456.740258</td>\n",
       "      <td>1456.740258</td>\n",
       "      <td>0.29219</td>\n",
       "      <td>0.292190</td>\n",
       "      <td>6.415317e+04</td>\n",
       "      <td>6.415317e+04</td>\n",
       "      <td>0.000000</td>\n",
       "    </tr>\n",
       "    <tr>\n",
       "      <th>3</th>\n",
       "      <td>367.834340</td>\n",
       "      <td>1.202410</td>\n",
       "      <td>80000.0</td>\n",
       "      <td>2185.105387</td>\n",
       "      <td>2185.105387</td>\n",
       "      <td>0.29219</td>\n",
       "      <td>0.292190</td>\n",
       "      <td>9.622953e+04</td>\n",
       "      <td>9.622953e+04</td>\n",
       "      <td>0.000000</td>\n",
       "    </tr>\n",
       "    <tr>\n",
       "      <th>4</th>\n",
       "      <td>1096.199469</td>\n",
       "      <td>1.603212</td>\n",
       "      <td>80000.0</td>\n",
       "      <td>2913.470516</td>\n",
       "      <td>2913.470516</td>\n",
       "      <td>0.29219</td>\n",
       "      <td>0.292190</td>\n",
       "      <td>1.283059e+05</td>\n",
       "      <td>1.283059e+05</td>\n",
       "      <td>0.000000</td>\n",
       "    </tr>\n",
       "    <tr>\n",
       "      <th>5</th>\n",
       "      <td>1824.564598</td>\n",
       "      <td>2.004013</td>\n",
       "      <td>80000.0</td>\n",
       "      <td>3641.835645</td>\n",
       "      <td>3641.835645</td>\n",
       "      <td>0.29219</td>\n",
       "      <td>0.292190</td>\n",
       "      <td>1.603823e+05</td>\n",
       "      <td>1.603823e+05</td>\n",
       "      <td>0.000000</td>\n",
       "    </tr>\n",
       "    <tr>\n",
       "      <th>...</th>\n",
       "      <td>...</td>\n",
       "      <td>...</td>\n",
       "      <td>...</td>\n",
       "      <td>...</td>\n",
       "      <td>...</td>\n",
       "      <td>...</td>\n",
       "      <td>...</td>\n",
       "      <td>...</td>\n",
       "      <td>...</td>\n",
       "      <td>...</td>\n",
       "    </tr>\n",
       "    <tr>\n",
       "      <th>495</th>\n",
       "      <td>358723.477856</td>\n",
       "      <td>198.396794</td>\n",
       "      <td>80000.0</td>\n",
       "      <td>360540.748903</td>\n",
       "      <td>80000.000000</td>\n",
       "      <td>0.29219</td>\n",
       "      <td>0.569250</td>\n",
       "      <td>1.587780e+07</td>\n",
       "      <td>8.827480e+06</td>\n",
       "      <td>-5.030802</td>\n",
       "    </tr>\n",
       "    <tr>\n",
       "      <th>496</th>\n",
       "      <td>359451.842985</td>\n",
       "      <td>198.797595</td>\n",
       "      <td>80000.0</td>\n",
       "      <td>361269.114032</td>\n",
       "      <td>80000.000000</td>\n",
       "      <td>0.29219</td>\n",
       "      <td>0.569625</td>\n",
       "      <td>1.590988e+07</td>\n",
       "      <td>8.835832e+06</td>\n",
       "      <td>-5.035587</td>\n",
       "    </tr>\n",
       "    <tr>\n",
       "      <th>497</th>\n",
       "      <td>360180.208114</td>\n",
       "      <td>199.198397</td>\n",
       "      <td>80000.0</td>\n",
       "      <td>361997.479161</td>\n",
       "      <td>80000.000000</td>\n",
       "      <td>0.29219</td>\n",
       "      <td>0.569999</td>\n",
       "      <td>1.594195e+07</td>\n",
       "      <td>8.844183e+06</td>\n",
       "      <td>-5.040354</td>\n",
       "    </tr>\n",
       "    <tr>\n",
       "      <th>498</th>\n",
       "      <td>360908.573243</td>\n",
       "      <td>199.599198</td>\n",
       "      <td>80000.0</td>\n",
       "      <td>362725.844290</td>\n",
       "      <td>80000.000000</td>\n",
       "      <td>0.29219</td>\n",
       "      <td>0.570371</td>\n",
       "      <td>1.597403e+07</td>\n",
       "      <td>8.852535e+06</td>\n",
       "      <td>-5.045101</td>\n",
       "    </tr>\n",
       "    <tr>\n",
       "      <th>499</th>\n",
       "      <td>361636.938372</td>\n",
       "      <td>200.000000</td>\n",
       "      <td>80000.0</td>\n",
       "      <td>363454.209419</td>\n",
       "      <td>80000.000000</td>\n",
       "      <td>0.29219</td>\n",
       "      <td>0.570743</td>\n",
       "      <td>1.600611e+07</td>\n",
       "      <td>8.860887e+06</td>\n",
       "      <td>-5.049830</td>\n",
       "    </tr>\n",
       "  </tbody>\n",
       "</table>\n",
       "<p>499 rows × 10 columns</p>\n",
       "</div>"
      ],
      "text/plain": [
       "                dh  scalefactor  clipping_height  ymax_unclipped  \\\n",
       "1     -1088.895918     0.400807          80000.0      728.375129   \n",
       "2      -360.530789     0.801609          80000.0     1456.740258   \n",
       "3       367.834340     1.202410          80000.0     2185.105387   \n",
       "4      1096.199469     1.603212          80000.0     2913.470516   \n",
       "5      1824.564598     2.004013          80000.0     3641.835645   \n",
       "..             ...          ...              ...             ...   \n",
       "495  358723.477856   198.396794          80000.0   360540.748903   \n",
       "496  359451.842985   198.797595          80000.0   361269.114032   \n",
       "497  360180.208114   199.198397          80000.0   361997.479161   \n",
       "498  360908.573243   199.599198          80000.0   362725.844290   \n",
       "499  361636.938372   200.000000          80000.0   363454.209419   \n",
       "\n",
       "     ymax_clipped  PSD_unclipped  PSD_clipped  totalarea_unclipped  \\\n",
       "1      728.375129        0.29219     0.292190         3.207680e+04   \n",
       "2     1456.740258        0.29219     0.292190         6.415317e+04   \n",
       "3     2185.105387        0.29219     0.292190         9.622953e+04   \n",
       "4     2913.470516        0.29219     0.292190         1.283059e+05   \n",
       "5     3641.835645        0.29219     0.292190         1.603823e+05   \n",
       "..            ...            ...          ...                  ...   \n",
       "495  80000.000000        0.29219     0.569250         1.587780e+07   \n",
       "496  80000.000000        0.29219     0.569625         1.590988e+07   \n",
       "497  80000.000000        0.29219     0.569999         1.594195e+07   \n",
       "498  80000.000000        0.29219     0.570371         1.597403e+07   \n",
       "499  80000.000000        0.29219     0.570743         1.600611e+07   \n",
       "\n",
       "     totalarea_clipped  time_offset  \n",
       "1         3.207680e+04     0.000000  \n",
       "2         6.415317e+04     0.000000  \n",
       "3         9.622953e+04     0.000000  \n",
       "4         1.283059e+05     0.000000  \n",
       "5         1.603823e+05     0.000000  \n",
       "..                 ...          ...  \n",
       "495       8.827480e+06    -5.030802  \n",
       "496       8.835832e+06    -5.035587  \n",
       "497       8.844183e+06    -5.040354  \n",
       "498       8.852535e+06    -5.045101  \n",
       "499       8.860887e+06    -5.049830  \n",
       "\n",
       "[499 rows x 10 columns]"
      ]
     },
     "execution_count": 40,
     "metadata": {},
     "output_type": "execute_result"
    }
   ],
   "source": [
    "df_late"
   ]
  },
  {
   "cell_type": "code",
   "execution_count": 30,
   "id": "b0a995a9",
   "metadata": {},
   "outputs": [],
   "source": [
    "\n",
    "\n",
    "combinedarea = np.asarray(df_early['totalarea_clipped']) + np.asarray(df_late['totalarea_clipped'])\n",
    "\n",
    "scaledPSD_early = np.asarray(df_early['PSD_clipped'])*np.asarray(df_early['totalarea_clipped'])/combinedarea\n",
    "scaledPSD_late = np.asarray(df_late['PSD_clipped'])*np.asarray(df_late['totalarea_clipped'])/combinedarea\n",
    "\n",
    "combinedPSD = scaledPSD_early + scaledPSD_late\n",
    "\n",
    "\n"
   ]
  },
  {
   "cell_type": "code",
   "execution_count": 41,
   "id": "f2a9763e",
   "metadata": {},
   "outputs": [
    {
     "data": {
      "image/png": "[encoded data removed]",
      "text/plain": [
       "<Figure size 576x432 with 1 Axes>"
      ]
     },
     "metadata": {
      "needs_background": "light"
     },
     "output_type": "display_data"
    }
   ],
   "source": [
    "plt.plot(np.asarray(df_early['totalarea_clipped']), combinedPSD, marker='', linestyle='-', label='combined PSD')\n",
    "plt.plot(np.asarray(df_early['totalarea_clipped']), np.asarray(df_early['PSD_clipped']), marker='', linestyle='-', label='single-waveform PSD')\n",
    "plt.grid()\n",
    "plt.ylim(0,1)\n",
    "plt.xlabel('Area of Early Pulse (proportional to energy)', fontsize=14)\n",
    "plt.ylabel('PSD', fontsize=14)\n",
    "plt.title('')\n",
    "plt.legend(fontsize=14)\n",
    "plt.rcParams[\"figure.figsize\"] = (8,6)"
   ]
  },
  {
   "cell_type": "code",
   "execution_count": 43,
   "id": "9f2e0728",
   "metadata": {},
   "outputs": [
    {
     "data": {
      "image/png": "[encoded data removed]",
      "text/plain": [
       "<Figure size 576x432 with 1 Axes>"
      ]
     },
     "metadata": {
      "needs_background": "light"
     },
     "output_type": "display_data"
    }
   ],
   "source": [
    "plt.plot(combinedarea, combinedPSD, marker='', linestyle='-', label='combined PSD')\n",
    "plt.plot(combinedarea, np.asarray(df_early['PSD_clipped']), marker='', linestyle='-', label='single-waveform PSD')\n",
    "plt.grid()\n",
    "plt.ylim(0,1)\n",
    "plt.xlabel('Total area of Both Pulses (proportional to energy)', fontsize=14)\n",
    "plt.ylabel('PSD', fontsize=14)\n",
    "plt.title('')\n",
    "plt.legend(fontsize=14)\n",
    "plt.rcParams[\"figure.figsize\"] = (8,6)"
   ]
  },
  {
   "cell_type": "code",
   "execution_count": 106,
   "id": "0a3b7c66",
   "metadata": {},
   "outputs": [
    {
     "data": {
      "image/png": "[encoded data removed]",
      "text/plain": [
       "<Figure size 432x288 with 1 Axes>"
      ]
     },
     "metadata": {
      "needs_background": "light"
     },
     "output_type": "display_data"
    }
   ],
   "source": [
    "plt.plot(np.asarray(df_early['totalarea_clipped']), combinedPSD, marker='', linestyle='-')\n",
    "plt.grid()"
   ]
  },
  {
   "cell_type": "code",
   "execution_count": 101,
   "id": "81c64fec",
   "metadata": {},
   "outputs": [
    {
     "data": {
      "text/plain": [
       "[<matplotlib.lines.Line2D at 0x7f9161789f40>]"
      ]
     },
     "execution_count": 101,
     "metadata": {},
     "output_type": "execute_result"
    },
    {
     "data": {
      "image/png": "[encoded data removed]",
      "text/plain": [
       "<Figure size 432x288 with 1 Axes>"
      ]
     },
     "metadata": {
      "needs_background": "light"
     },
     "output_type": "display_data"
    }
   ],
   "source": [
    "plt.plot(np.asarray(df_early['time_offset']), combinedPSD, marker='', linestyle='-')"
   ]
  },
  {
   "cell_type": "code",
   "execution_count": 36,
   "id": "48ea19a2",
   "metadata": {},
   "outputs": [],
   "source": [
    "PSDvE_graph_combined = ROOT.TGraph( len(combinedPSD), 0.000012*np.asarray(df_early['totalarea_clipped']), combinedPSD)\n",
    "PSDvE_graph = ROOT.TGraph( len(combinedPSD), 0.000012*np.asarray(df_early['totalarea_clipped']), np.asarray(df_early['PSD_clipped']))"
   ]
  },
  {
   "cell_type": "code",
   "execution_count": 38,
   "id": "e2a950ab",
   "metadata": {},
   "outputs": [
    {
     "data": {
      "image/png": "[encoded data removed]",
      "text/plain": [
       "<IPython.core.display.Image object>"
      ]
     },
     "metadata": {},
     "output_type": "display_data"
    }
   ],
   "source": [
    "c1 = ROOT.TCanvas()\n",
    "PSDvE.Draw('colz')\n",
    "PSDvE_graph_combined.SetLineColor(2);\n",
    "PSDvE_graph_combined.Draw('L')\n",
    "PSDvE_graph.SetLineColor(2);\n",
    "PSDvE_graph.Draw('L')\n",
    "\n",
    "c1.Draw()"
   ]
  },
  {
   "cell_type": "code",
   "execution_count": null,
   "id": "81acc289",
   "metadata": {},
   "outputs": [],
   "source": [
    "file = uproot.open('AD1_Wet_MuonTracking.root')\n",
    "PSDvE_np = file[\"MuonTracking/hPSDvE\"].to_hist()"
   ]
  },
  {
   "cell_type": "code",
   "execution_count": 144,
   "id": "48d415be",
   "metadata": {},
   "outputs": [
    {
     "ename": "AttributeError",
     "evalue": "module 'matplotlib.pyplot' has no attribute 'zscale'",
     "output_type": "error",
     "traceback": [
      "\u001b[0;31m---------------------------------------------------------------------------\u001b[0m",
      "\u001b[0;31mAttributeError\u001b[0m                            Traceback (most recent call last)",
      "\u001b[0;32m<ipython-input-144-9811fcc8822f>\u001b[0m in \u001b[0;36m<module>\u001b[0;34m\u001b[0m\n\u001b[1;32m      1\u001b[0m \u001b[0mPSDvE_np\u001b[0m\u001b[0;34m.\u001b[0m\u001b[0mplot\u001b[0m\u001b[0;34m(\u001b[0m\u001b[0;34m)\u001b[0m\u001b[0;34m\u001b[0m\u001b[0;34m\u001b[0m\u001b[0m\n\u001b[1;32m      2\u001b[0m \u001b[0mplt\u001b[0m\u001b[0;34m.\u001b[0m\u001b[0mxlabel\u001b[0m\u001b[0;34m(\u001b[0m\u001b[0;34m'Energy'\u001b[0m\u001b[0;34m)\u001b[0m\u001b[0;34m\u001b[0m\u001b[0;34m\u001b[0m\u001b[0m\n\u001b[0;32m----> 3\u001b[0;31m \u001b[0mplt\u001b[0m\u001b[0;34m.\u001b[0m\u001b[0mzscale\u001b[0m\u001b[0;34m(\u001b[0m\u001b[0;34m'log'\u001b[0m\u001b[0;34m)\u001b[0m\u001b[0;34m\u001b[0m\u001b[0;34m\u001b[0m\u001b[0m\n\u001b[0m",
      "\u001b[0;31mAttributeError\u001b[0m: module 'matplotlib.pyplot' has no attribute 'zscale'"
     ]
    },
    {
     "data": {
      "image/png": "[encoded data removed]",
      "text/plain": [
       "<Figure size 576x432 with 2 Axes>"
      ]
     },
     "metadata": {
      "needs_background": "light"
     },
     "output_type": "display_data"
    }
   ],
   "source": [
    "PSDvE_np.plot()\n",
    "plt.xlabel('Energy')\n",
    "plt.zscale('log')"
   ]
  }
 ],
 "metadata": {
  "kernelspec": {
   "display_name": "Python 3",
   "language": "python",
   "name": "python3"
  },
  "language_info": {
   "codemirror_mode": {
    "name": "ipython",
    "version": 3
   },
   "file_extension": ".py",
   "mimetype": "text/x-python",
   "name": "python",
   "nbconvert_exporter": "python",
   "pygments_lexer": "ipython3",
   "version": "3.9.2"
  }
 },
 "nbformat": 4,
 "nbformat_minor": 5
}
